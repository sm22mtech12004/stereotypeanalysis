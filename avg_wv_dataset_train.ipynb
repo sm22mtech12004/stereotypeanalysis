{
 "cells": [
  {
   "cell_type": "code",
   "execution_count": 1,
   "metadata": {},
   "outputs": [
    {
     "name": "stdout",
     "output_type": "stream",
     "text": [
      "     woman_Aan Milo Sajna   FEMALE young  \\\n",
      "0     Anil_Aan Milo Sajna     MALE   NaN   \n",
      "1  Savitri_Aan Milo Sajna   FEMALE   NaN   \n",
      "2  Deepali_Aan Milo Sajna   FEMALE   NaN   \n",
      "3        Shekar_Abhinetri  UNKNOWN   NaN   \n",
      "4        Anjana_Abhinetri   FEMALE   NaN   \n",
      "\n",
      "  -0.105138 -0.029248 -0.063298 -0.007706 -0.180894 -0.104018  0.034577 -0.051221 -0.129727 -0.031833 -0.178217  0.19768  -0.0573   -0.059109 -0.041048 -0.043887  0.135037  0.300367  0.145015  0.031881 -0.205729 -0.037333  0.307861 -0.114496  0.124391  0.099326 -0.091438  0.128143  0.134054  0.006646  0.060022 -0.083128 -0.107062 -0.038827  0.135397  0.119597  0.119368  0.00618   0.004359  0.009318  0.12306   0.160797 -0.14984   0.041717  0.165998  0.02331  -0.006929  0.242037 -0.19263 -0.130126 -0.081618 -0.208262 -0.087869 -0.053085  0.030829 -0.010559 -0.045659 -0.137754  0.092101 -0.207898  0.244597 -0.043084  0.121871 -0.080083 -0.083782 -0.067626  0.039911  0.058039  0.094585  0.138638  0.057615  0.082765  0.018154  0.11145   0.048383  0.200493 -0.179834 -0.088518 -0.130542 -0.043079 -0.022001  0.081154 -0.11968  -0.058292  0.142399 -0.144937  0.035644 -0.249231  0.082367 -0.168491  0.026903  0.002506 -0.299859 -0.025856 -0.242518 -0.312798 -0.1355    0.018445 -0.162201 -0.12209  -0.004217  0.244984  0.118352 -0.143992  0.210414  0.21603   0.163875  0.182048  0.221834  0.189066  0.240501 -0.014123  0.293897 -0.355481 -0.104806  0.113138  0.25067   0.066753  0.246894  0.276778 -0.22788  -0.058984  0.12206  -0.291915  0.186391 -0.258152  0.049221 -0.037093  0.202596 -0.168496 -0.030998  0.076666 -0.051196 -0.245244 -0.083225  0.226956  0.096827 -0.142759 -0.127564 -0.139465  0.131062  0.02925  -0.430186  0.115489  0.090471 -0.135455 -0.013807 -0.122106 -0.408108 -0.127747  0.014898 -0.022894  0.039024 -0.196433 -0.083304 -0.023548  0.144422  0.01931  -0.124332  0.027629 -0.286833 -0.047158  0.183738 -0.117063  0.07706   0.194313  0.059085  0.006004  0.101265 -0.024363  0.323935 -0.016563  0.123086 -0.174911  0.021541 -0.092516  0.059304 -0.093657  0.070757 -0.106423  0.056114 -0.06577  0.011335 -0.067516  0.006345 -0.008601 -0.005953 -0.012502 -0.092998 -0.00556   0.050683  0.342201  0.028356 -0.04467   0.065716 -0.206692  0.150687  0.15791  -0.141353 -0.357681  \n",
      "0                                                0.0                                                                                                                                                                                                                                                                                                                                                                                                                                                                                                                                                                                                                                                                                                                                                                                                                                                                                                                                                                                                                                                                                                                                                                                                                                                                                                                                                                                                                                                                                                                                                                                                                                                                                                                                                                                                                                                                                                                                                                                                                             \n",
      "1                                                0.0                                                                                                                                                                                                                                                                                                                                                                                                                                                                                                                                                                                                                                                                                                                                                                                                                                                                                                                                                                                                                                                                                                                                                                                                                                                                                                                                                                                                                                                                                                                                                                                                                                                                                                                                                                                                                                                                                                                                                                                                                             \n",
      "2                                                0.0                                                                                                                                                                                                                                                                                                                                                                                                                                                                                                                                                                                                                                                                                                                                                                                                                                                                                                                                                                                                                                                                                                                                                                                                                                                                                                                                                                                                                                                                                                                                                                                                                                                                                                                                                                                                                                                                                                                                                                                                                             \n",
      "3                                                0.0                                                                                                                                                                                                                                                                                                                                                                                                                                                                                                                                                                                                                                                                                                                                                                                                                                                                                                                                                                                                                                                                                                                                                                                                                                                                                                                                                                                                                                                                                                                                                                                                                                                                                                                                                                                                                                                                                                                                                                                                                             \n",
      "4                                                0.0                                                                                                                                                                                                                                                                                                                                                                                                                                                                                                                                                                                                                                                                                                                                                                                                                                                                                                                                                                                                                                                                                                                                                                                                                                                                                                                                                                                                                                                                                                                                                                                                                                                                                                                                                                                                                                                                                                                                                                                                                             \n",
      "<class 'pandas.core.frame.DataFrame'>\n",
      "RangeIndex: 16933 entries, 0 to 16932\n",
      "Columns: 201 entries, FEMALE to 199\n",
      "dtypes: object(201)\n",
      "memory usage: 26.0+ MB\n",
      "None\n",
      "    FEMALE    0     1     2     3     4     5     6     7     8  ...   190  \\\n",
      "0     MALE  0.0  None  None  None  None  None  None  None  None  ...  None   \n",
      "1   FEMALE  0.0  None  None  None  None  None  None  None  None  ...  None   \n",
      "2   FEMALE  0.0  None  None  None  None  None  None  None  None  ...  None   \n",
      "3  UNKNOWN  0.0  None  None  None  None  None  None  None  None  ...  None   \n",
      "4   FEMALE  0.0  None  None  None  None  None  None  None  None  ...  None   \n",
      "\n",
      "    191   192   193   194   195   196   197   198   199  \n",
      "0  None  None  None  None  None  None  None  None  None  \n",
      "1  None  None  None  None  None  None  None  None  None  \n",
      "2  None  None  None  None  None  None  None  None  None  \n",
      "3  None  None  None  None  None  None  None  None  None  \n",
      "4  None  None  None  None  None  None  None  None  None  \n",
      "\n",
      "[5 rows x 201 columns]\n",
      "    FEMALE    0  1  2  3  4  5  6  7  8  ... 190 191 192 193 194 195 196 197  \\\n",
      "0     MALE  0.0  0  0  0  0  0  0  0  0  ...   0   0   0   0   0   0   0   0   \n",
      "1   FEMALE  0.0  0  0  0  0  0  0  0  0  ...   0   0   0   0   0   0   0   0   \n",
      "2   FEMALE  0.0  0  0  0  0  0  0  0  0  ...   0   0   0   0   0   0   0   0   \n",
      "3  UNKNOWN  0.0  0  0  0  0  0  0  0  0  ...   0   0   0   0   0   0   0   0   \n",
      "4   FEMALE  0.0  0  0  0  0  0  0  0  0  ...   0   0   0   0   0   0   0   0   \n",
      "\n",
      "  198 199  \n",
      "0   0   0  \n",
      "1   0   0  \n",
      "2   0   0  \n",
      "3   0   0  \n",
      "4   0   0  \n",
      "\n",
      "[5 rows x 201 columns]\n",
      "<class 'pandas.core.frame.DataFrame'>\n",
      "RangeIndex: 16933 entries, 0 to 16932\n",
      "Columns: 201 entries, FEMALE to 199\n",
      "dtypes: object(201)\n",
      "memory usage: 26.0+ MB\n",
      "None\n"
     ]
    },
    {
     "name": "stderr",
     "output_type": "stream",
     "text": [
      "C:\\Users\\sneha\\AppData\\Local\\Packages\\PythonSoftwareFoundation.Python.3.10_qbz5n2kfra8p0\\LocalCache\\local-packages\\Python310\\site-packages\\sklearn\\utils\\validation.py:757: FutureWarning: is_sparse is deprecated and will be removed in a future version. Check `isinstance(dtype, pd.SparseDtype)` instead.\n",
      "  if not hasattr(array, \"sparse\") and array.dtypes.apply(is_sparse).any():\n",
      "C:\\Users\\sneha\\AppData\\Local\\Packages\\PythonSoftwareFoundation.Python.3.10_qbz5n2kfra8p0\\LocalCache\\local-packages\\Python310\\site-packages\\sklearn\\utils\\validation.py:595: FutureWarning: is_sparse is deprecated and will be removed in a future version. Check `isinstance(dtype, pd.SparseDtype)` instead.\n",
      "  if is_sparse(pd_dtype):\n",
      "C:\\Users\\sneha\\AppData\\Local\\Packages\\PythonSoftwareFoundation.Python.3.10_qbz5n2kfra8p0\\LocalCache\\local-packages\\Python310\\site-packages\\sklearn\\utils\\validation.py:604: FutureWarning: is_sparse is deprecated and will be removed in a future version. Check `isinstance(dtype, pd.SparseDtype)` instead.\n",
      "  if is_sparse(pd_dtype) or not is_extension_array_dtype(pd_dtype):\n"
     ]
    },
    {
     "name": "stdout",
     "output_type": "stream",
     "text": [
      "Accuracy: 0.6034839090640685\n",
      "Classification Report:\n",
      "               precision    recall  f1-score   support\n",
      "\n",
      "           0       0.77      0.26      0.39      1061\n",
      "           1       0.59      0.96      0.73      1830\n",
      "           2       0.00      0.00      0.00        36\n",
      "           3       0.00      0.00      0.00       206\n",
      "           4       0.29      0.02      0.04       254\n",
      "\n",
      "    accuracy                           0.60      3387\n",
      "   macro avg       0.33      0.25      0.23      3387\n",
      "weighted avg       0.58      0.60      0.52      3387\n",
      "\n"
     ]
    },
    {
     "name": "stderr",
     "output_type": "stream",
     "text": [
      "C:\\Users\\sneha\\AppData\\Local\\Packages\\PythonSoftwareFoundation.Python.3.10_qbz5n2kfra8p0\\LocalCache\\local-packages\\Python310\\site-packages\\sklearn\\utils\\validation.py:757: FutureWarning: is_sparse is deprecated and will be removed in a future version. Check `isinstance(dtype, pd.SparseDtype)` instead.\n",
      "  if not hasattr(array, \"sparse\") and array.dtypes.apply(is_sparse).any():\n",
      "C:\\Users\\sneha\\AppData\\Local\\Packages\\PythonSoftwareFoundation.Python.3.10_qbz5n2kfra8p0\\LocalCache\\local-packages\\Python310\\site-packages\\sklearn\\utils\\validation.py:595: FutureWarning: is_sparse is deprecated and will be removed in a future version. Check `isinstance(dtype, pd.SparseDtype)` instead.\n",
      "  if is_sparse(pd_dtype):\n",
      "C:\\Users\\sneha\\AppData\\Local\\Packages\\PythonSoftwareFoundation.Python.3.10_qbz5n2kfra8p0\\LocalCache\\local-packages\\Python310\\site-packages\\sklearn\\utils\\validation.py:604: FutureWarning: is_sparse is deprecated and will be removed in a future version. Check `isinstance(dtype, pd.SparseDtype)` instead.\n",
      "  if is_sparse(pd_dtype) or not is_extension_array_dtype(pd_dtype):\n",
      "C:\\Users\\sneha\\AppData\\Local\\Packages\\PythonSoftwareFoundation.Python.3.10_qbz5n2kfra8p0\\LocalCache\\local-packages\\Python310\\site-packages\\sklearn\\metrics\\_classification.py:1334: UndefinedMetricWarning: Precision and F-score are ill-defined and being set to 0.0 in labels with no predicted samples. Use `zero_division` parameter to control this behavior.\n",
      "  _warn_prf(average, modifier, msg_start, len(result))\n",
      "C:\\Users\\sneha\\AppData\\Local\\Packages\\PythonSoftwareFoundation.Python.3.10_qbz5n2kfra8p0\\LocalCache\\local-packages\\Python310\\site-packages\\sklearn\\metrics\\_classification.py:1334: UndefinedMetricWarning: Precision and F-score are ill-defined and being set to 0.0 in labels with no predicted samples. Use `zero_division` parameter to control this behavior.\n",
      "  _warn_prf(average, modifier, msg_start, len(result))\n",
      "C:\\Users\\sneha\\AppData\\Local\\Packages\\PythonSoftwareFoundation.Python.3.10_qbz5n2kfra8p0\\LocalCache\\local-packages\\Python310\\site-packages\\sklearn\\metrics\\_classification.py:1334: UndefinedMetricWarning: Precision and F-score are ill-defined and being set to 0.0 in labels with no predicted samples. Use `zero_division` parameter to control this behavior.\n",
      "  _warn_prf(average, modifier, msg_start, len(result))\n"
     ]
    }
   ],
   "source": [
    "import pandas as pd\n",
    "\n",
    "# Load the CSV file\n",
    "file_path = 'avg_wv_relation.csv'  # Replace with your actual file path\n",
    "data = pd.read_csv(file_path)\n",
    "\n",
    "# Display the first few rows to understand the data structure\n",
    "print(data.head())\n",
    "# Assuming the second column (index 1) contains labels\n",
    "labels = data.iloc[:, 1]\n",
    "\n",
    "# Assuming the third column onward contains concatenated feature data\n",
    "# Try to split these features into separate columns\n",
    "split_features = data.iloc[:, 3].str.split(expand=True)\n",
    "\n",
    "# Combine labels with the newly split features\n",
    "processed_data = pd.concat([labels, split_features], axis=1)\n",
    "\n",
    "# Check the structure of the processed data\n",
    "print(processed_data.info())\n",
    "print(processed_data.head())\n",
    "# Drop columns that are entirely NaN\n",
    "processed_data_clean = processed_data.dropna(axis=1, how='all')\n",
    "processed_data_clean = processed_data_clean.fillna(0)\n",
    "\n",
    "# Or replace NaN values with a default value (e.g., 0)\n",
    "processed_data_filled = processed_data.fillna(0)\n",
    "\n",
    "# Check the cleaned data\n",
    "print(processed_data_clean.head())\n",
    "print(processed_data_clean.info())\n",
    "\n",
    "from sklearn.model_selection import train_test_split\n",
    "from sklearn.preprocessing import LabelEncoder\n",
    "\n",
    "# Convert labels to numerical values\n",
    "label_encoder = LabelEncoder()\n",
    "y = label_encoder.fit_transform(labels)\n",
    "\n",
    "# Convert features to float (if they are not already)\n",
    "X = processed_data_clean.iloc[:, 1:].astype(float)  # Assuming first column is the label\n",
    "\n",
    "# Split the dataset into training and testing sets\n",
    "X_train, X_test, y_train, y_test = train_test_split(X, y, test_size=0.2, random_state=42)\n",
    "\n",
    "from sklearn.ensemble import RandomForestClassifier\n",
    "from sklearn.metrics import classification_report, accuracy_score\n",
    "\n",
    "# Initialize and train the classifier\n",
    "clf = RandomForestClassifier(n_estimators=100, random_state=42)\n",
    "clf.fit(X_train, y_train)\n",
    "\n",
    "# Predict on the test set\n",
    "y_pred = clf.predict(X_test)\n",
    "\n",
    "# Evaluate the classifier\n",
    "print(\"Accuracy:\", accuracy_score(y_test, y_pred))\n",
    "print(\"Classification Report:\\n\", classification_report(y_test, y_pred))"
   ]
  },
  {
   "cell_type": "code",
   "execution_count": 2,
   "metadata": {},
   "outputs": [
    {
     "name": "stdout",
     "output_type": "stream",
     "text": [
      "Collecting xgboost\n",
      "  Downloading xgboost-2.1.1-py3-none-win_amd64.whl.metadata (2.1 kB)\n",
      "Requirement already satisfied: numpy in c:\\users\\sneha\\appdata\\local\\packages\\pythonsoftwarefoundation.python.3.10_qbz5n2kfra8p0\\localcache\\local-packages\\python310\\site-packages (from xgboost) (1.25.2)\n",
      "Requirement already satisfied: scipy in c:\\users\\sneha\\appdata\\local\\packages\\pythonsoftwarefoundation.python.3.10_qbz5n2kfra8p0\\localcache\\local-packages\\python310\\site-packages (from xgboost) (1.9.3)\n",
      "Downloading xgboost-2.1.1-py3-none-win_amd64.whl (124.9 MB)\n",
      "   ---------------------------------------- 124.9/124.9 MB 2.7 MB/s eta 0:00:00\n",
      "Installing collected packages: xgboost\n",
      "Successfully installed xgboost-2.1.1\n"
     ]
    },
    {
     "name": "stderr",
     "output_type": "stream",
     "text": [
      "\n",
      "[notice] A new release of pip is available: 24.0 -> 24.2\n",
      "[notice] To update, run: C:\\Users\\sneha\\AppData\\Local\\Microsoft\\WindowsApps\\PythonSoftwareFoundation.Python.3.10_qbz5n2kfra8p0\\python.exe -m pip install --upgrade pip\n"
     ]
    }
   ],
   "source": [
    "!pip install xgboost"
   ]
  },
  {
   "cell_type": "code",
   "execution_count": 4,
   "metadata": {},
   "outputs": [
    {
     "name": "stderr",
     "output_type": "stream",
     "text": [
      "C:\\Users\\sneha\\AppData\\Local\\Packages\\PythonSoftwareFoundation.Python.3.10_qbz5n2kfra8p0\\LocalCache\\local-packages\\Python310\\site-packages\\xgboost\\core.py:158: UserWarning: [12:02:35] WARNING: C:\\buildkite-agent\\builds\\buildkite-windows-cpu-autoscaling-group-i-0015a694724fa8361-1\\xgboost\\xgboost-ci-windows\\src\\learner.cc:740: \n",
      "Parameters: { \"use_label_encoder\" } are not used.\n",
      "\n",
      "  warnings.warn(smsg, UserWarning)\n"
     ]
    },
    {
     "name": "stdout",
     "output_type": "stream",
     "text": [
      "Accuracy: 0.609684086211987\n",
      "Classification Report:\n",
      "               precision    recall  f1-score   support\n",
      "\n",
      "           0       0.76      0.29      0.42      1061\n",
      "           1       0.59      0.96      0.73      1830\n",
      "           2       0.00      0.00      0.00        36\n",
      "           3       0.00      0.00      0.00       206\n",
      "           4       0.41      0.04      0.07       254\n",
      "\n",
      "    accuracy                           0.61      3387\n",
      "   macro avg       0.35      0.26      0.24      3387\n",
      "weighted avg       0.59      0.61      0.53      3387\n",
      "\n"
     ]
    },
    {
     "name": "stderr",
     "output_type": "stream",
     "text": [
      "C:\\Users\\sneha\\AppData\\Local\\Packages\\PythonSoftwareFoundation.Python.3.10_qbz5n2kfra8p0\\LocalCache\\local-packages\\Python310\\site-packages\\sklearn\\metrics\\_classification.py:1334: UndefinedMetricWarning: Precision and F-score are ill-defined and being set to 0.0 in labels with no predicted samples. Use `zero_division` parameter to control this behavior.\n",
      "  _warn_prf(average, modifier, msg_start, len(result))\n",
      "C:\\Users\\sneha\\AppData\\Local\\Packages\\PythonSoftwareFoundation.Python.3.10_qbz5n2kfra8p0\\LocalCache\\local-packages\\Python310\\site-packages\\sklearn\\metrics\\_classification.py:1334: UndefinedMetricWarning: Precision and F-score are ill-defined and being set to 0.0 in labels with no predicted samples. Use `zero_division` parameter to control this behavior.\n",
      "  _warn_prf(average, modifier, msg_start, len(result))\n",
      "C:\\Users\\sneha\\AppData\\Local\\Packages\\PythonSoftwareFoundation.Python.3.10_qbz5n2kfra8p0\\LocalCache\\local-packages\\Python310\\site-packages\\sklearn\\metrics\\_classification.py:1334: UndefinedMetricWarning: Precision and F-score are ill-defined and being set to 0.0 in labels with no predicted samples. Use `zero_division` parameter to control this behavior.\n",
      "  _warn_prf(average, modifier, msg_start, len(result))\n"
     ]
    }
   ],
   "source": [
    "import xgboost as xgb\n",
    "from sklearn.model_selection import train_test_split\n",
    "from sklearn.metrics import classification_report, accuracy_score\n",
    "from sklearn.preprocessing import LabelEncoder\n",
    "import pandas as pd\n",
    "\n",
    "# Load and prepare the data\n",
    "# Assuming you have your processed data ready in X_filled and labels\n",
    "label_encoder = LabelEncoder()\n",
    "y = label_encoder.fit_transform(labels)\n",
    "X_train, X_test, y_train, y_test = train_test_split(X, y, test_size=0.2, random_state=42)\n",
    "\n",
    "# Initialize the XGBoost classifier\n",
    "xgb_clf = xgb.XGBClassifier(use_label_encoder=False, eval_metric='mlogloss')\n",
    "\n",
    "# Train the model\n",
    "xgb_clf.fit(X_train, y_train)\n",
    "\n",
    "# Predict on the test set\n",
    "y_pred = xgb_clf.predict(X_test)\n",
    "\n",
    "# Evaluate the classifier\n",
    "accuracy = accuracy_score(y_test, y_pred)\n",
    "report = classification_report(y_test, y_pred)\n",
    "\n",
    "print(\"Accuracy:\", accuracy)\n",
    "print(\"Classification Report:\\n\", report)\n"
   ]
  }
 ],
 "metadata": {
  "kernelspec": {
   "display_name": "Python 3",
   "language": "python",
   "name": "python3"
  },
  "language_info": {
   "codemirror_mode": {
    "name": "ipython",
    "version": 3
   },
   "file_extension": ".py",
   "mimetype": "text/x-python",
   "name": "python",
   "nbconvert_exporter": "python",
   "pygments_lexer": "ipython3",
   "version": "3.10.11"
  }
 },
 "nbformat": 4,
 "nbformat_minor": 2
}
